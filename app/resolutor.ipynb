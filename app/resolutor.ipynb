{
 "cells": [
  {
   "cell_type": "code",
   "execution_count": 1,
   "metadata": {},
   "outputs": [],
   "source": [
    "import cv2\n",
    "from cv2 import dnn_superres\n",
    "import os"
   ]
  },
  {
   "cell_type": "code",
   "execution_count": 2,
   "metadata": {},
   "outputs": [],
   "source": [
    "# Create an SR object\n",
    "sr = dnn_superres.DnnSuperResImpl_create()\n",
    "\n",
    "# Read image\n",
    "image = cv2.imread('images/london.jpg')\n",
    "\n",
    "# Read the desired model\n",
    "path = \"models/EDSR_x4.pb\"\n",
    "sr.readModel(path)\n",
    "\n",
    "# Set the desired model and scale to get correct pre- and post-processing\n",
    "sr.setModel(\"edsr\", 4)\n",
    "\n",
    "# Upscale the image\n",
    "result = sr.upsample(image)\n",
    "\n",
    "# Save the image\n",
    "os.makedirs('app/results', exist_ok=True)  # Creates 'results' directory inside 'app' directory\n",
    "cv2.imwrite(\"app/results/upscaled.png\", result)  # The image will be saved in 'app/results' directory"
   ]
  }
 ],
 "metadata": {
  "kernelspec": {
   "display_name": "super_resolution-HLELyD9w",
   "language": "python",
   "name": "python3"
  },
  "language_info": {
   "codemirror_mode": {
    "name": "ipython",
    "version": 3
   },
   "file_extension": ".py",
   "mimetype": "text/x-python",
   "name": "python",
   "nbconvert_exporter": "python",
   "pygments_lexer": "ipython3",
   "version": "3.9.13"
  },
  "orig_nbformat": 4
 },
 "nbformat": 4,
 "nbformat_minor": 2
}
